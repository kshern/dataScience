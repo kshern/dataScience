{
 "cells": [
  {
   "cell_type": "markdown",
   "metadata": {},
   "source": [
    "# Titanic Dataset - 模型优化\n",
    "\n",
    "这个notebook包含多种模型优化策略：\n",
    "1. 高级特征工程\n",
    "2. 集成学习方法\n",
    "3. 特征选择\n",
    "4. 处理类别不平衡\n",
    "5. 模型堆叠"
   ]
  },
  {
   "cell_type": "code",
   "execution_count": 3,
   "metadata": {},
   "outputs": [],
   "source": [
    "# 导入必要的库\n",
    "import pandas as pd\n",
    "import numpy as np\n",
    "from sklearn.model_selection import train_test_split, cross_val_score, StratifiedKFold\n",
    "from sklearn.metrics import accuracy_score, classification_report\n",
    "from sklearn.ensemble import RandomForestClassifier, VotingClassifier, StackingClassifier\n",
    "from sklearn.linear_model import LogisticRegression\n",
    "from sklearn.svm import SVC\n",
    "from sklearn.neighbors import KNeighborsClassifier\n",
    "from sklearn.feature_selection import SelectFromModel\n",
    "from imblearn.over_sampling import SMOTE\n",
    "from imblearn.under_sampling import RandomUnderSampler\n",
    "from imblearn.pipeline import Pipeline\n",
    "\n",
    "# 设置随机种子\n",
    "np.random.seed(42)"
   ]
  },
  {
   "cell_type": "markdown",
   "metadata": {},
   "source": [
    "## 1. 高级特征工程"
   ]
  },
  {
   "cell_type": "code",
   "execution_count": 4,
   "metadata": {},
   "outputs": [],
   "source": [
    "# 加载预处理后的数据\n",
    "train_data = pd.read_csv('data/processed_train.csv')\n",
    "test_data = pd.read_csv('data/processed_test.csv')\n",
    "\n",
    "def create_advanced_features(df):\n",
    "    # 创建新特征的副本\n",
    "    data = df.copy()\n",
    "    \n",
    "    # 1. 票价分箱\n",
    "    data['Fare_Bin'] = pd.qcut(data['Fare'], q=4, labels=['Low', 'Medium', 'High', 'Very High'])\n",
    "    \n",
    "    # 2. 年龄分组\n",
    "    data['Age_Group'] = pd.cut(data['Age'], \n",
    "                              bins=[0, 12, 18, 35, 50, 100],\n",
    "                              labels=['Child', 'Teenager', 'Young Adult', 'Adult', 'Elder'])\n",
    "    \n",
    "    # 3. 家庭规模分类\n",
    "    data['Family_Category'] = pd.cut(data['FamilySize'],\n",
    "                                    bins=[0, 1, 4, 20],\n",
    "                                    labels=['Single', 'Small', 'Large'])\n",
    "    \n",
    "    # 4. 创建交互特征\n",
    "    data['Age_Class'] = data['Age'] * data['Pclass']\n",
    "    data['Fare_Per_Person'] = data['Fare'] / data['FamilySize']\n",
    "    \n",
    "    # 5. 对数变换\n",
    "    data['Log_Fare'] = np.log1p(data['Fare'])\n",
    "    \n",
    "    # 对新的分类变量进行独热编码\n",
    "    data = pd.get_dummies(data, columns=['Fare_Bin', 'Age_Group', 'Family_Category'])\n",
    "    \n",
    "    return data\n",
    "\n",
    "# 应用高级特征工程\n",
    "train_advanced = create_advanced_features(train_data)\n",
    "test_advanced = create_advanced_features(test_data)\n",
    "\n",
    "# 准备训练数据\n",
    "X = train_advanced.drop('Survived', axis=1)\n",
    "y = train_advanced['Survived']\n",
    "\n",
    "# 划分训练集和验证集\n",
    "X_train, X_val, y_train, y_val = train_test_split(X, y, test_size=0.2, random_state=42)"
   ]
  },
  {
   "cell_type": "markdown",
   "metadata": {},
   "source": [
    "## 2. 特征选择"
   ]
  },
  {
   "cell_type": "code",
   "execution_count": 5,
   "metadata": {},
   "outputs": [
    {
     "name": "stdout",
     "output_type": "stream",
     "text": [
      "选中的特征数量: 9\n",
      "选中的特征: ['Pclass', 'Age', 'Fare', 'Sex_female', 'Sex_male', 'Title_Mr', 'Age_Class', 'Fare_Per_Person', 'Log_Fare']\n"
     ]
    }
   ],
   "source": [
    "# 使用随机森林进行特征选择\n",
    "selector = SelectFromModel(RandomForestClassifier(n_estimators=100, random_state=42))\n",
    "selector.fit(X_train, y_train)\n",
    "\n",
    "# 获取选中的特征\n",
    "selected_features = X_train.columns[selector.get_support()].tolist()\n",
    "print(\"选中的特征数量:\", len(selected_features))\n",
    "print(\"选中的特征:\", selected_features)\n",
    "\n",
    "# 使用选中的特征\n",
    "X_train_selected = X_train[selected_features]\n",
    "X_val_selected = X_val[selected_features]"
   ]
  },
  {
   "cell_type": "markdown",
   "metadata": {},
   "source": [
    "## 3. 处理类别不平衡"
   ]
  },
  {
   "cell_type": "code",
   "execution_count": 6,
   "metadata": {},
   "outputs": [
    {
     "name": "stdout",
     "output_type": "stream",
     "text": [
      "原始类别分布:\n",
      " Survived\n",
      "0    444\n",
      "1    268\n",
      "Name: count, dtype: int64\n",
      "\n",
      "重采样后类别分布:\n",
      " Survived\n",
      "0    444\n",
      "1    444\n",
      "Name: count, dtype: int64\n"
     ]
    }
   ],
   "source": [
    "# 创建采样pipeline\n",
    "sampler = Pipeline([\n",
    "    ('over', SMOTE(random_state=42)),\n",
    "    ('under', RandomUnderSampler(random_state=42))\n",
    "])\n",
    "\n",
    "# 重采样数据\n",
    "X_train_resampled, y_train_resampled = sampler.fit_resample(X_train_selected, y_train)\n",
    "\n",
    "print(\"原始类别分布:\\n\", pd.Series(y_train).value_counts())\n",
    "print(\"\\n重采样后类别分布:\\n\", pd.Series(y_train_resampled).value_counts())"
   ]
  },
  {
   "cell_type": "markdown",
   "metadata": {},
   "source": [
    "## 4. 集成学习"
   ]
  },
  {
   "cell_type": "code",
   "execution_count": 7,
   "metadata": {},
   "outputs": [],
   "source": [
    "# 定义基础模型\n",
    "rf = RandomForestClassifier(n_estimators=200, max_depth=20, random_state=42)\n",
    "svm = SVC(probability=True, random_state=42)\n",
    "lr = LogisticRegression(random_state=42)\n",
    "knn = KNeighborsClassifier(n_neighbors=5)\n",
    "\n",
    "# 创建投票分类器\n",
    "voting_clf = VotingClassifier(\n",
    "    estimators=[\n",
    "        ('rf', rf),\n",
    "        ('svm', svm),\n",
    "        ('lr', lr)\n",
    "    ],\n",
    "    voting='soft'\n",
    ")\n",
    "\n",
    "# 创建堆叠分类器\n",
    "estimators = [\n",
    "    ('rf', rf),\n",
    "    ('svm', svm),\n",
    "    ('knn', knn)\n",
    "]\n",
    "\n",
    "stack_clf = StackingClassifier(\n",
    "    estimators=estimators,\n",
    "    final_estimator=LogisticRegression(),\n",
    "    cv=5\n",
    ")"
   ]
  },
  {
   "cell_type": "code",
   "execution_count": 8,
   "metadata": {},
   "outputs": [
    {
     "name": "stderr",
     "output_type": "stream",
     "text": [
      "C:\\Users\\Administrator\\AppData\\Local\\Packages\\PythonSoftwareFoundation.Python.3.11_qbz5n2kfra8p0\\LocalCache\\local-packages\\Python311\\site-packages\\sklearn\\linear_model\\_logistic.py:460: ConvergenceWarning: lbfgs failed to converge (status=1):\n",
      "STOP: TOTAL NO. of ITERATIONS REACHED LIMIT.\n",
      "\n",
      "Increase the number of iterations (max_iter) or scale the data as shown in:\n",
      "    https://scikit-learn.org/stable/modules/preprocessing.html\n",
      "Please also refer to the documentation for alternative solver options:\n",
      "    https://scikit-learn.org/stable/modules/linear_model.html#logistic-regression\n",
      "  n_iter_i = _check_optimize_result(\n",
      "C:\\Users\\Administrator\\AppData\\Local\\Packages\\PythonSoftwareFoundation.Python.3.11_qbz5n2kfra8p0\\LocalCache\\local-packages\\Python311\\site-packages\\sklearn\\linear_model\\_logistic.py:460: ConvergenceWarning: lbfgs failed to converge (status=1):\n",
      "STOP: TOTAL NO. of ITERATIONS REACHED LIMIT.\n",
      "\n",
      "Increase the number of iterations (max_iter) or scale the data as shown in:\n",
      "    https://scikit-learn.org/stable/modules/preprocessing.html\n",
      "Please also refer to the documentation for alternative solver options:\n",
      "    https://scikit-learn.org/stable/modules/linear_model.html#logistic-regression\n",
      "  n_iter_i = _check_optimize_result(\n",
      "C:\\Users\\Administrator\\AppData\\Local\\Packages\\PythonSoftwareFoundation.Python.3.11_qbz5n2kfra8p0\\LocalCache\\local-packages\\Python311\\site-packages\\sklearn\\linear_model\\_logistic.py:460: ConvergenceWarning: lbfgs failed to converge (status=1):\n",
      "STOP: TOTAL NO. of ITERATIONS REACHED LIMIT.\n",
      "\n",
      "Increase the number of iterations (max_iter) or scale the data as shown in:\n",
      "    https://scikit-learn.org/stable/modules/preprocessing.html\n",
      "Please also refer to the documentation for alternative solver options:\n",
      "    https://scikit-learn.org/stable/modules/linear_model.html#logistic-regression\n",
      "  n_iter_i = _check_optimize_result(\n",
      "C:\\Users\\Administrator\\AppData\\Local\\Packages\\PythonSoftwareFoundation.Python.3.11_qbz5n2kfra8p0\\LocalCache\\local-packages\\Python311\\site-packages\\sklearn\\linear_model\\_logistic.py:460: ConvergenceWarning: lbfgs failed to converge (status=1):\n",
      "STOP: TOTAL NO. of ITERATIONS REACHED LIMIT.\n",
      "\n",
      "Increase the number of iterations (max_iter) or scale the data as shown in:\n",
      "    https://scikit-learn.org/stable/modules/preprocessing.html\n",
      "Please also refer to the documentation for alternative solver options:\n",
      "    https://scikit-learn.org/stable/modules/linear_model.html#logistic-regression\n",
      "  n_iter_i = _check_optimize_result(\n",
      "C:\\Users\\Administrator\\AppData\\Local\\Packages\\PythonSoftwareFoundation.Python.3.11_qbz5n2kfra8p0\\LocalCache\\local-packages\\Python311\\site-packages\\sklearn\\linear_model\\_logistic.py:460: ConvergenceWarning: lbfgs failed to converge (status=1):\n",
      "STOP: TOTAL NO. of ITERATIONS REACHED LIMIT.\n",
      "\n",
      "Increase the number of iterations (max_iter) or scale the data as shown in:\n",
      "    https://scikit-learn.org/stable/modules/preprocessing.html\n",
      "Please also refer to the documentation for alternative solver options:\n",
      "    https://scikit-learn.org/stable/modules/linear_model.html#logistic-regression\n",
      "  n_iter_i = _check_optimize_result(\n"
     ]
    },
    {
     "name": "stdout",
     "output_type": "stream",
     "text": [
      "投票分类器得分: 0.838 (+/- 0.050)\n",
      "堆叠分类器得分: 0.840 (+/- 0.055)\n"
     ]
    }
   ],
   "source": [
    "# 使用分层K折交叉验证评估模型\n",
    "skf = StratifiedKFold(n_splits=5, shuffle=True, random_state=42)\n",
    "\n",
    "# 评估投票分类器\n",
    "voting_scores = cross_val_score(voting_clf, X_train_resampled, y_train_resampled, cv=skf)\n",
    "print(\"投票分类器得分: %0.3f (+/- %0.3f)\" % (voting_scores.mean(), voting_scores.std() * 2))\n",
    "\n",
    "# 评估堆叠分类器\n",
    "stack_scores = cross_val_score(stack_clf, X_train_resampled, y_train_resampled, cv=skf)\n",
    "print(\"堆叠分类器得分: %0.3f (+/- %0.3f)\" % (stack_scores.mean(), stack_scores.std() * 2))"
   ]
  },
  {
   "cell_type": "markdown",
   "metadata": {},
   "source": [
    "## 5. 生成最终预测"
   ]
  },
  {
   "cell_type": "code",
   "execution_count": 9,
   "metadata": {},
   "outputs": [
    {
     "name": "stdout",
     "output_type": "stream",
     "text": [
      "优化后的预测结果已保存到 'optimized_submission.csv'\n"
     ]
    }
   ],
   "source": [
    "# 使用表现最好的模型进行预测\n",
    "best_model = stack_clf  # 或 voting_clf，取决于上面的评估结果\n",
    "\n",
    "# 在完整训练集上训练模型\n",
    "best_model.fit(X_train_resampled, y_train_resampled)\n",
    "\n",
    "# 对测试集进行预测\n",
    "test_selected = test_advanced[selected_features]\n",
    "final_predictions = best_model.predict(test_selected)\n",
    "\n",
    "# 创建提交文件\n",
    "submission = pd.DataFrame({\n",
    "    'PassengerId': range(892, 892 + len(final_predictions)),\n",
    "    'Survived': final_predictions\n",
    "})\n",
    "\n",
    "# 保存预测结果\n",
    "submission.to_csv('data/optimized_submission.csv', index=False)\n",
    "print(\"优化后的预测结果已保存到 'optimized_submission.csv'\")"
   ]
  }
 ],
 "metadata": {
  "kernelspec": {
   "display_name": "Python 3",
   "language": "python",
   "name": "python3"
  },
  "language_info": {
   "codemirror_mode": {
    "name": "ipython",
    "version": 3
   },
   "file_extension": ".py",
   "mimetype": "text/x-python",
   "name": "python",
   "nbconvert_exporter": "python",
   "pygments_lexer": "ipython3",
   "version": "3.11.9"
  }
 },
 "nbformat": 4,
 "nbformat_minor": 4
}
