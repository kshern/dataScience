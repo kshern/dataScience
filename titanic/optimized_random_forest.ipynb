{
 "cells": [
  {
   "cell_type": "markdown",
   "metadata": {},
   "source": [
    "# 优化版本 - Titanic Random Forest 模型\n",
    "\n",
    "整合了多个优化策略：\n",
    "1. 高级特征工程\n",
    "2. 特征选择\n",
    "3. 处理不平衡数据\n",
    "4. 集成学习\n",
    "5. 交叉验证优化"
   ]
  },
  {
   "cell_type": "code",
   "execution_count": 1,
   "metadata": {},
   "outputs": [],
   "source": [
    "import pandas as pd\n",
    "import numpy as np\n",
    "from sklearn.model_selection import train_test_split, cross_val_score, GridSearchCV\n",
    "from sklearn.ensemble import RandomForestClassifier, VotingClassifier\n",
    "from sklearn.metrics import accuracy_score, classification_report, roc_auc_score\n",
    "from sklearn.preprocessing import StandardScaler\n",
    "from imblearn.over_sampling import SMOTE\n",
    "from imblearn.pipeline import Pipeline\n",
    "import matplotlib.pyplot as plt\n",
    "import seaborn as sns\n",
    "\n",
    "# 设置随机种子\n",
    "np.random.seed(42)"
   ]
  },
  {
   "cell_type": "code",
   "execution_count": 4,
   "metadata": {},
   "outputs": [],
   "source": [
    "def create_advanced_features(df):\n",
    "    # 创建新特征的副本\n",
    "    data = df.copy()\n",
    "    \n",
    "    # 1. 票价分箱\n",
    "    data['Fare_Bin'] = pd.qcut(data['Fare'], q=4, labels=['Low', 'Medium', 'High', 'Very High'])\n",
    "    \n",
    "    # 2. 年龄分组\n",
    "    data['Age_Group'] = pd.cut(data['Age'], \n",
    "                          bins=[0, 12, 18, 35, 50, 100],\n",
    "                          labels=['Child', 'Teenager', 'Young Adult', 'Adult', 'Elder'])\n",
    "    \n",
    "    # 3. 家庭规模分类\n",
    "    data['Family_Category'] = pd.cut(data['FamilySize'],\n",
    "                                bins=[0, 1, 4, 20],\n",
    "                                labels=['Single', 'Small', 'Large'])\n",
    "    \n",
    "    # 4. 创建交互特征\n",
    "    data['Age_Class'] = data['Age'] * data['Pclass']\n",
    "    data['Fare_Per_Person'] = data['Fare'] / data['FamilySize']\n",
    "    \n",
    "    # 5. 对数变换\n",
    "    data['Log_Fare'] = np.log1p(data['Fare'])\n",
    "    \n",
    "    # 只对新的分类变量进行独热编码\n",
    "    data = pd.get_dummies(data, columns=['Fare_Bin', 'Age_Group', 'Family_Category'])\n",
    "    \n",
    "    return data\n",
    "def handle_outliers(df, columns):\n",
    "    df = df.copy()\n",
    "    for col in columns:\n",
    "        Q1 = df[col].quantile(0.25)\n",
    "        Q3 = df[col].quantile(0.75)\n",
    "        IQR = Q3 - Q1\n",
    "        df[col] = df[col].clip(lower=Q1-1.5*IQR, upper=Q3+1.5*IQR)\n",
    "    return df"
   ]
  },
  {
   "cell_type": "code",
   "execution_count": 5,
   "metadata": {},
   "outputs": [
    {
     "name": "stdout",
     "output_type": "stream",
     "text": [
      "训练集形状: (712, 32)\n",
      "验证集形状: (179, 32)\n"
     ]
    }
   ],
   "source": [
    "# 加载数据\n",
    "train_data = pd.read_csv('data/processed_train.csv')\n",
    "test_data = pd.read_csv('data/processed_test.csv')\n",
    "\n",
    "# 处理异常值\n",
    "numerical_cols = ['Age', 'Fare']\n",
    "train_data = handle_outliers(train_data, numerical_cols)\n",
    "test_data = handle_outliers(test_data, numerical_cols)\n",
    "\n",
    "# 创建高级特征\n",
    "train_data = create_advanced_features(train_data)\n",
    "test_data = create_advanced_features(test_data)\n",
    "\n",
    "# 准备特征和目标变量\n",
    "feature_cols = [col for col in train_data.columns if col not in ['Survived', 'Name', 'Ticket', 'Cabin']]\n",
    "X = train_data[feature_cols]\n",
    "y = train_data['Survived']\n",
    "X_test = test_data[feature_cols]\n",
    "\n",
    "# 划分训练集和验证集\n",
    "X_train, X_val, y_train, y_val = train_test_split(X, y, test_size=0.2, random_state=42)\n",
    "\n",
    "print(\"训练集形状:\", X_train.shape)\n",
    "print(\"验证集形状:\", X_val.shape)"
   ]
  },
  {
   "cell_type": "code",
   "execution_count": 6,
   "metadata": {},
   "outputs": [
    {
     "name": "stdout",
     "output_type": "stream",
     "text": [
      "Fitting 5 folds for each of 432 candidates, totalling 2160 fits\n",
      "最佳参数: {'rf__class_weight': 'balanced_subsample', 'rf__max_depth': 10, 'rf__max_features': 'sqrt', 'rf__min_samples_leaf': 4, 'rf__min_samples_split': 2, 'rf__n_estimators': 200}\n",
      "最佳交叉验证得分: 0.8568670326328796\n"
     ]
    }
   ],
   "source": [
    "# 创建优化的随机森林模型\n",
    "param_grid = {\n",
    "    'n_estimators': [200, 300, 400],\n",
    "    'max_depth': [10, 15, 20, None],\n",
    "    'min_samples_split': [2, 5, 8],\n",
    "    'min_samples_leaf': [1, 2, 4],\n",
    "    'max_features': ['sqrt', 'log2'],\n",
    "    'class_weight': ['balanced', 'balanced_subsample']\n",
    "}\n",
    "\n",
    "# 创建SMOTE和随机森林的管道\n",
    "pipeline = Pipeline([\n",
    "    ('smote', SMOTE(random_state=42)),\n",
    "    ('rf', RandomForestClassifier(random_state=42))\n",
    "])\n",
    "\n",
    "# 网格搜索\n",
    "grid_search = GridSearchCV(\n",
    "    estimator=pipeline,\n",
    "    param_grid={'rf__' + key: val for key, val in param_grid.items()},\n",
    "    cv=5,\n",
    "    n_jobs=-1,\n",
    "    verbose=2,\n",
    "    scoring='roc_auc'\n",
    ")\n",
    "\n",
    "# 训练模型\n",
    "grid_search.fit(X_train, y_train)\n",
    "\n",
    "print(\"最佳参数:\", grid_search.best_params_)\n",
    "print(\"最佳交叉验证得分:\", grid_search.best_score_)"
   ]
  },
  {
   "cell_type": "code",
   "execution_count": 7,
   "metadata": {},
   "outputs": [
    {
     "name": "stdout",
     "output_type": "stream",
     "text": [
      "\n",
      "分类报告:\n",
      "              precision    recall  f1-score   support\n",
      "\n",
      "           0       0.87      0.86      0.86       105\n",
      "           1       0.80      0.81      0.81        74\n",
      "\n",
      "    accuracy                           0.84       179\n",
      "   macro avg       0.83      0.83      0.83       179\n",
      "weighted avg       0.84      0.84      0.84       179\n",
      "\n",
      "\n",
      "ROC-AUC分数: 0.9051\n"
     ]
    }
   ],
   "source": [
    "# 使用最佳模型进行预测\n",
    "best_model = grid_search.best_estimator_\n",
    "y_pred = best_model.predict(X_val)\n",
    "y_pred_proba = best_model.predict_proba(X_val)[:, 1]\n",
    "\n",
    "# 评估模型\n",
    "print(\"\\n分类报告:\")\n",
    "print(classification_report(y_val, y_pred))\n",
    "print(f\"\\nROC-AUC分数: {roc_auc_score(y_val, y_pred_proba):.4f}\")"
   ]
  },
  {
   "cell_type": "code",
   "execution_count": 8,
   "metadata": {},
   "outputs": [
    {
     "name": "stderr",
     "output_type": "stream",
     "text": [
      "C:\\Users\\Administrator\\AppData\\Local\\Temp\\ipykernel_31828\\1706776969.py:13: UserWarning: Glyph 26368 (\\N{CJK UNIFIED IDEOGRAPH-6700}) missing from current font.\n",
      "  plt.tight_layout()\n",
      "C:\\Users\\Administrator\\AppData\\Local\\Temp\\ipykernel_31828\\1706776969.py:13: UserWarning: Glyph 37325 (\\N{CJK UNIFIED IDEOGRAPH-91CD}) missing from current font.\n",
      "  plt.tight_layout()\n",
      "C:\\Users\\Administrator\\AppData\\Local\\Temp\\ipykernel_31828\\1706776969.py:13: UserWarning: Glyph 35201 (\\N{CJK UNIFIED IDEOGRAPH-8981}) missing from current font.\n",
      "  plt.tight_layout()\n",
      "C:\\Users\\Administrator\\AppData\\Local\\Temp\\ipykernel_31828\\1706776969.py:13: UserWarning: Glyph 29305 (\\N{CJK UNIFIED IDEOGRAPH-7279}) missing from current font.\n",
      "  plt.tight_layout()\n",
      "C:\\Users\\Administrator\\AppData\\Local\\Temp\\ipykernel_31828\\1706776969.py:13: UserWarning: Glyph 24449 (\\N{CJK UNIFIED IDEOGRAPH-5F81}) missing from current font.\n",
      "  plt.tight_layout()\n",
      "C:\\Users\\Administrator\\AppData\\Local\\Packages\\PythonSoftwareFoundation.Python.3.11_qbz5n2kfra8p0\\LocalCache\\local-packages\\Python311\\site-packages\\IPython\\core\\pylabtools.py:152: UserWarning: Glyph 26368 (\\N{CJK UNIFIED IDEOGRAPH-6700}) missing from current font.\n",
      "  fig.canvas.print_figure(bytes_io, **kw)\n",
      "C:\\Users\\Administrator\\AppData\\Local\\Packages\\PythonSoftwareFoundation.Python.3.11_qbz5n2kfra8p0\\LocalCache\\local-packages\\Python311\\site-packages\\IPython\\core\\pylabtools.py:152: UserWarning: Glyph 37325 (\\N{CJK UNIFIED IDEOGRAPH-91CD}) missing from current font.\n",
      "  fig.canvas.print_figure(bytes_io, **kw)\n",
      "C:\\Users\\Administrator\\AppData\\Local\\Packages\\PythonSoftwareFoundation.Python.3.11_qbz5n2kfra8p0\\LocalCache\\local-packages\\Python311\\site-packages\\IPython\\core\\pylabtools.py:152: UserWarning: Glyph 35201 (\\N{CJK UNIFIED IDEOGRAPH-8981}) missing from current font.\n",
      "  fig.canvas.print_figure(bytes_io, **kw)\n",
      "C:\\Users\\Administrator\\AppData\\Local\\Packages\\PythonSoftwareFoundation.Python.3.11_qbz5n2kfra8p0\\LocalCache\\local-packages\\Python311\\site-packages\\IPython\\core\\pylabtools.py:152: UserWarning: Glyph 29305 (\\N{CJK UNIFIED IDEOGRAPH-7279}) missing from current font.\n",
      "  fig.canvas.print_figure(bytes_io, **kw)\n",
      "C:\\Users\\Administrator\\AppData\\Local\\Packages\\PythonSoftwareFoundation.Python.3.11_qbz5n2kfra8p0\\LocalCache\\local-packages\\Python311\\site-packages\\IPython\\core\\pylabtools.py:152: UserWarning: Glyph 24449 (\\N{CJK UNIFIED IDEOGRAPH-5F81}) missing from current font.\n",
      "  fig.canvas.print_figure(bytes_io, **kw)\n"
     ]
    },
    {
     "data": {
      "image/png": "[encoded data removed]",
      "text/plain": [
       "<Figure size 1200x600 with 1 Axes>"
      ]
     },
     "metadata": {},
     "output_type": "display_data"
    }
   ],
   "source": [
    "# 分析特征重要性\n",
    "rf_model = best_model.named_steps['rf']\n",
    "feature_importance = pd.DataFrame({\n",
    "    'feature': feature_cols,\n",
    "    'importance': rf_model.feature_importances_\n",
    "})\n",
    "feature_importance = feature_importance.sort_values('importance', ascending=False)\n",
    "\n",
    "# 绘制特征重要性图\n",
    "plt.figure(figsize=(12, 6))\n",
    "sns.barplot(data=feature_importance.head(15), x='importance', y='feature')\n",
    "plt.title('Top 15 最重要特征')\n",
    "plt.tight_layout()\n",
    "plt.show()"
   ]
  },
  {
   "cell_type": "code",
   "execution_count": 9,
   "metadata": {},
   "outputs": [
    {
     "name": "stdout",
     "output_type": "stream",
     "text": [
      "预测结果已保存到 'optimized_rf_submission.csv'\n"
     ]
    }
   ],
   "source": [
    "# 生成最终预测\n",
    "final_predictions = best_model.predict(X_test)\n",
    "\n",
    "# 创建提交文件\n",
    "submission = pd.DataFrame({\n",
    "    'PassengerId': range(892, 892 + len(final_predictions)),\n",
    "    'Survived': final_predictions\n",
    "})\n",
    "\n",
    "# 保存预测结果\n",
    "submission.to_csv('data/optimized_rf_submission.csv', index=False)\n",
    "print(\"预测结果已保存到 'optimized_rf_submission.csv'\")"
   ]
  }
 ],
 "metadata": {
  "kernelspec": {
   "display_name": "Python 3",
   "language": "python",
   "name": "python3"
  },
  "language_info": {
   "codemirror_mode": {
    "name": "ipython",
    "version": 3
   },
   "file_extension": ".py",
   "mimetype": "text/x-python",
   "name": "python",
   "nbconvert_exporter": "python",
   "pygments_lexer": "ipython3",
   "version": "3.11.9"
  }
 },
 "nbformat": 4,
 "nbformat_minor": 4
}
